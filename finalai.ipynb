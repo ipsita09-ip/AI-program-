{
 "cells": [
  {
   "cell_type": "code",
   "execution_count": 3,
   "id": "7895fc96-d481-4995-bf11-f907cef843ae",
   "metadata": {},
   "outputs": [
    {
     "name": "stdout",
     "output_type": "stream",
     "text": [
      "My name is Alice, I am 30 years old, I am 5.8 feet tall, and it is False that I am a student.\n",
      "Name: Alice\n",
      "Age: 30\n",
      "Height: 5.8 feet\n",
      "Is a student: False\n",
      "Next year, I will be 31 years old.\n",
      "Pi rounded to two decimal places: 3.14\n",
      "Am I a student? False\n"
     ]
    }
   ],
   "source": [
    "# 4 Declare variables of different data types\n",
    "name = \"Alice\"  # String\n",
    "age = 30      # Integer\n",
    "height = 5.8   # Float\n",
    "is_student = False  # Boolean\n",
    "# Output the variables in a sentence format using f-strings\n",
    "print(f\"My name is {name}, I am {age} years old, I am {height} feet tall, and it is {is_student} that I am a student.\")\n",
    "# More examples of different sentence structures:\n",
    "print(f\"Name: {name}\")\n",
    "print(f\"Age: {age}\")\n",
    "print(f\"Height: {height} feet\")\n",
    "print(f\"Is a student: {is_student}\")\n",
    "# You can also do calculations directly within the f-string:\n",
    "next_year_age = age + 1\n",
    "print(f\"Next year, I will be {next_year_age} years old.\")\n",
    "# And you can use different formatting options:\n",
    "pi = 3.14159265359\n",
    "print(f\"Pi rounded to two decimal places: {pi:.2f}\") # Output: 3.14\n",
    "# Boolean values are automatically formatted as \"True\" or \"False\":\n",
    "print(f\"Am I a student? {is_student}\") # Output: Am I a student? False\n"
   ]
  },
  {
   "cell_type": "code",
   "execution_count": 1,
   "id": "338eb1c2-6646-439c-a39c-4c314c53e2ba",
   "metadata": {},
   "outputs": [
    {
     "name": "stdin",
     "output_type": "stream",
     "text": [
      "Enter an integer:  -4\n"
     ]
    },
    {
     "name": "stdout",
     "output_type": "stream",
     "text": [
      "The number is negative.\n"
     ]
    }
   ],
   "source": [
    "# 5. Check if a number is positive, negative, or zero\n",
    "\n",
    "num = int(input(\"Enter an integer: \"))\n",
    "\n",
    "if num > 0:\n",
    "    print(\"The number is positive.\")\n",
    "elif num < 0:\n",
    "    print(\"The number is negative.\")\n",
    "else:\n",
    "    print(\"The number is zero.\")\n"
   ]
  },
  {
   "cell_type": "code",
   "execution_count": 2,
   "id": "20c7e165-d42c-4b34-85e6-86c66fcbe43e",
   "metadata": {},
   "outputs": [
    {
     "name": "stdin",
     "output_type": "stream",
     "text": [
      "Enter a number for the multiplication table:  4\n"
     ]
    },
    {
     "name": "stdout",
     "output_type": "stream",
     "text": [
      "Multiplication Table for 4:\n",
      "4 x 1 = 4\n",
      "4 x 2 = 8\n",
      "4 x 3 = 12\n",
      "4 x 4 = 16\n",
      "4 x 5 = 20\n",
      "4 x 6 = 24\n",
      "4 x 7 = 28\n",
      "4 x 8 = 32\n",
      "4 x 9 = 36\n",
      "4 x 10 = 40\n"
     ]
    }
   ],
   "source": [
    "# 6. Print multiplication table\n",
    "\n",
    "num = int(input(\"Enter a number for the multiplication table: \"))\n",
    "\n",
    "print(f\"Multiplication Table for {num}:\")\n",
    "for i in range(1, 11):  # Loop from 1 to 10 (inclusive)\n",
    "    print(f\"{num} x {i} = {num * i}\")\n",
    "\n"
   ]
  },
  {
   "cell_type": "code",
   "execution_count": 3,
   "id": "be59970f-f641-43af-b096-b0a5fd3af2bf",
   "metadata": {},
   "outputs": [
    {
     "name": "stdout",
     "output_type": "stream",
     "text": [
      "First fruit: Apple\n",
      "Last fruit: Elderberry\n",
      "Updated list: ['Apple', 'Cherry', 'Date', 'Elderberry', 'Fig']\n"
     ]
    }
   ],
   "source": [
    "#7.Create a Python list that contains the names of 5 different fruits. Perform the given operations on the list.\n",
    "fruits = [\"Apple\", \"Banana\", \"Cherry\", \"Date\", \"Elderberry\"]\n",
    "print(\"First fruit:\", fruits[0])\n",
    "print(\"Last fruit:\", fruits[-1])\n",
    "fruits.append(\"Fig\")\n",
    "fruits.remove(\"Banana\")\n",
    "print(\"Updated list:\", fruits)\n"
   ]
  },
  {
   "cell_type": "code",
   "execution_count": 4,
   "id": "35c924c4-087d-4e6a-8315-45804f47a07d",
   "metadata": {},
   "outputs": [
    {
     "name": "stdout",
     "output_type": "stream",
     "text": [
      "Original tuple: (10, 20, 30, 40, 50)\n",
      "Element at index 2: 30\n",
      "Elements from index 1 to 3: (20, 30, 40)\n",
      "Combined tuple: (10, 20, 30, 40, 50, 60, 70)\n",
      "Length of the tuple: 5\n",
      "Is 30 in the tuple? True\n",
      "Is 80 in the tuple? False\n",
      "Number of times 20 appears: 1\n",
      "Unpacked values: 10 20 30 40 50\n",
      "Modified tuple: (100, 20, 30, 40, 50)\n",
      "Iterating through the tuple:\n",
      "10\n",
      "20\n",
      "30\n",
      "40\n",
      "50\n"
     ]
    }
   ],
   "source": [
    "# 8 Create a tuple with 5 numbers\n",
    "my_tuple = (10, 20, 30, 40, 50)\n",
    "# Print the tuple\n",
    "print(\"Original tuple:\", my_tuple)\n",
    "# Access elements (indexing)\n",
    "print(\"Element at index 2:\", my_tuple[2])  # Output: 30\n",
    "# Slicing\n",
    "print(\"Elements from index 1 to 3:\", my_tuple[1:4])  # Output: (20, 30, 40)\n",
    "# Concatenation\n",
    "another_tuple = (60, 70)\n",
    "combined_tuple = my_tuple + another_tuple\n",
    "print(\"Combined tuple:\", combined_tuple)\n",
    "# Length of the tuple\n",
    "print(\"Length of the tuple:\", len(my_tuple))\n",
    "# Check if an element exists\n",
    "print(\"Is 30 in the tuple?\", 30 in my_tuple)  # Output: True\n",
    "print(\"Is 80 in the tuple?\", 80 in my_tuple)  # Output: False\n",
    "# Count occurrences of an element\n",
    "print(\"Number of times 20 appears:\", my_tuple.count(20)) # Output: 1\n",
    "# Tuple packing and unpacking\n",
    "a, b, c, d, e = my_tuple  # Unpacking\n",
    "print(\"Unpacked values:\", a, b, c, d, e)\n",
    "# To \"modify\" a tuple, you need to create a new one:\n",
    "modified_tuple = (100,) + my_tuple[1:] # Creates a new tuple with the first element changed.\n",
    "print(\"Modified tuple:\", modified_tuple)\n",
    "# Iterating through the tuple\n",
    "print(\"Iterating through the tuple:\")\n",
    "for item in my_tuple:\n",
    "    print(item)\n",
    "\n"
   ]
  },
  {
   "cell_type": "code",
   "execution_count": 5,
   "id": "37c20d59-2b5f-45bb-b2c5-dc5ffd562eaa",
   "metadata": {},
   "outputs": [
    {
     "name": "stdout",
     "output_type": "stream",
     "text": [
      "Tuple length: 5\n",
      "Tuple sum: 150\n",
      "Bob's Marks: 90\n",
      "Updated dictionary: {'Bob': 90, 'Charlie': 78, 'David': 88}\n"
     ]
    }
   ],
   "source": [
    "#9.Create a dictionary that stores the names of 3 students as keys and their marks in mathematics as\n",
    "#values. Perform the given operations.\n",
    "tuple_numbers = (10, 20, 30, 40, 50)\n",
    "print(\"Tuple length:\", len(tuple_numbers))\n",
    "print(\"Tuple sum:\", sum(tuple_numbers))\n",
    "\n",
    "students = {\"Alice\": 85, \"Bob\": 90, \"Charlie\": 78}\n",
    "print(\"Bob's Marks:\", students[\"Bob\"])\n",
    "students[\"David\"] = 88\n",
    "del students[\"Alice\"]\n",
    "print(\"Updated dictionary:\", students)\n",
    "\n"
   ]
  },
  {
   "cell_type": "code",
   "execution_count": 6,
   "id": "384a5473-ecf6-40b2-bc07-97f3713e96c6",
   "metadata": {},
   "outputs": [
    {
     "name": "stdout",
     "output_type": "stream",
     "text": [
      "Union: {1, 2, 3, 4, 5, 6}\n",
      "Intersection: {3, 4}\n",
      "Difference: {1, 2}\n"
     ]
    }
   ],
   "source": [
    "#10.Create two sets of integers. Perform the given set operations.\n",
    "set1 = {1, 2, 3, 4}\n",
    "set2 = {3, 4, 5, 6}\n",
    "print(\"Union:\", set1 | set2)\n",
    "print(\"Intersection:\", set1 & set2)\n",
    "print(\"Difference:\", set1 - set2)\n"
   ]
  },
  {
   "cell_type": "code",
   "execution_count": 7,
   "id": "2f459875-e09d-4f94-a89f-25a2dbaa5944",
   "metadata": {},
   "outputs": [
    {
     "name": "stdout",
     "output_type": "stream",
     "text": [
      "The largest number in the list is: 20\n",
      "The largest number in the empty list is: None\n"
     ]
    }
   ],
   "source": [
    "#11. Function to find the largest number in a list\n",
    "def find_largest(numbers):\n",
    "    if not numbers:  \n",
    "        return None  \n",
    "    largest = numbers[0]  \n",
    "    for number in numbers:\n",
    "        if number > largest:\n",
    "            largest = number\n",
    "    return largest\n",
    "numbers = [10, 5, 20, 8, 15]\n",
    "largest_number = find_largest(numbers)\n",
    "print(f\"The largest number in the list is: {largest_number}\")  \n",
    "numbers_empty = []\n",
    "largest_number_empty = find_largest(numbers_empty)\n",
    "print(f\"The largest number in the empty list is: {largest_number_empty}\")\n"
   ]
  },
  {
   "cell_type": "code",
   "execution_count": 8,
   "id": "6f9f3863-2662-4eb9-90b0-29b140284664",
   "metadata": {},
   "outputs": [
    {
     "name": "stdout",
     "output_type": "stream",
     "text": [
      "Squares of even numbers between 1 and 20: [4, 16, 36, 64, 100, 144, 196, 256, 324, 400]\n"
     ]
    }
   ],
   "source": [
    "#12. List comprehension for squares of even numbers\n",
    "even_squares = [x**2 for x in range(1, 21) if x % 2 == 0]\n",
    "print(f\"Squares of even numbers between 1 and 20: {even_squares}\")\n"
   ]
  },
  {
   "cell_type": "code",
   "execution_count": 9,
   "id": "39d7033b-d913-4aad-9605-097743ab50a4",
   "metadata": {},
   "outputs": [
    {
     "name": "stdout",
     "output_type": "stream",
     "text": [
      "Squares of even numbers between 1 and 20: [4, 16, 36, 64, 100, 144, 196, 256, 324, 400]\n"
     ]
    }
   ],
   "source": [
    "#12. List comprehension for squares of even numbers\n",
    "even_squares = [x**2 for x in range(1, 21) if x % 2 == 0]\n",
    "print(f\"Squares of even numbers between 1 and 20: {even_squares}\")\n"
   ]
  },
  {
   "cell_type": "code",
   "execution_count": 10,
   "id": "17a69c39-099a-4e5f-b54d-2be3f629d1ef",
   "metadata": {},
   "outputs": [
    {
     "name": "stdout",
     "output_type": "stream",
     "text": [
      "One-dimensional array:\n",
      "[1 2 3 4 5]\n",
      "Shape: (5,)\n",
      "Dimensions: 1\n",
      "\n",
      "Two-dimensional array:\n",
      "[[1 2 3]\n",
      " [4 5 6]]\n",
      "Shape: (2, 3)\n",
      "Dimensions: 2\n"
     ]
    }
   ],
   "source": [
    "#14. NumPy array creation and information\n",
    "import numpy as np\n",
    "\n",
    "# One-dimensional array\n",
    "arr1d = np.array([1, 2, 3, 4, 5])\n",
    "print(\"One-dimensional array:\")\n",
    "print(arr1d)\n",
    "print(\"Shape:\", arr1d.shape)\n",
    "print(\"Dimensions:\", arr1d.ndim)\n",
    "\n",
    "# Two-dimensional array\n",
    "arr2d = np.array([[1, 2, 3], [4, 5, 6]])\n",
    "print(\"\\nTwo-dimensional array:\")\n",
    "print(arr2d)\n",
    "print(\"Shape:\", arr2d.shape)\n",
    "print(\"Dimensions:\", arr2d.ndim)\n",
    "\n"
   ]
  },
  {
   "cell_type": "code",
   "execution_count": 11,
   "id": "7474c873-7793-486b-aa7e-e6cc1913c46d",
   "metadata": {},
   "outputs": [
    {
     "name": "stdout",
     "output_type": "stream",
     "text": [
      "\n",
      "Three-dimensional array:\n",
      "[[[1 2]\n",
      "  [3 4]]\n",
      "\n",
      " [[5 6]\n",
      "  [7 8]]]\n",
      "Shape: (2, 2, 2)\n",
      "Dimensions: 3\n"
     ]
    }
   ],
   "source": [
    "# Three-dimensional array\n",
    "arr3d = np.array([[[1, 2], [3, 4]], [[5, 6], [7, 8]]])\n",
    "print(\"\\nThree-dimensional array:\")\n",
    "print(arr3d)\n",
    "print(\"Shape:\", arr3d.shape)\n",
    "print(\"Dimensions:\", arr3d.ndim)\n",
    "\n"
   ]
  },
  {
   "cell_type": "code",
   "execution_count": 13,
   "id": "585c3ee4-92af-49b5-b892-65c1895b16e7",
   "metadata": {},
   "outputs": [
    {
     "name": "stdout",
     "output_type": "stream",
     "text": [
      "Random 5x5 array: [[37 49 45 34  7]\n",
      " [16 67 97 87  1]\n",
      " [77 45 38 60 91]\n",
      " [89 79 26 61 97]\n",
      " [40 29 13 59 38]]\n",
      "Element at (2,3): 60\n"
     ]
    }
   ],
   "source": [
    "#15. Write a Python program to create a 5x5 NumPy array of random integers and Perform array indexing as given.\n",
    "import numpy as np\n",
    "random_array = np.random.randint(1, 100, (5, 5))\n",
    "print(\"Random 5x5 array:\", random_array)\n",
    "print(\"Element at (2,3):\", random_array[2, 3])\n"
   ]
  },
  {
   "cell_type": "code",
   "execution_count": 14,
   "id": "1325fb80-5a66-4279-895f-b6f84516e156",
   "metadata": {},
   "outputs": [
    {
     "name": "stdout",
     "output_type": "stream",
     "text": [
      "First row: [1 2 3 4]\n",
      "Last column: [ 4  8 12 16]\n",
      "Sub-matrix: [[ 6  7]\n",
      " [10 11]]\n"
     ]
    }
   ],
   "source": [
    "#16.create a NumPy array of shape (4, 4) containing numbers from 1 to 16. Use slicing to extract for the given conditions\n",
    "import numpy as np\n",
    "matrix = np.arange(1, 17).reshape(4, 4)\n",
    "print(\"First row:\", matrix[0, :])\n",
    "print(\"Last column:\", matrix[:, -1])\n",
    "print(\"Sub-matrix:\", matrix[1:3, 1:3])\n"
   ]
  },
  {
   "cell_type": "code",
   "execution_count": 15,
   "id": "cf27eacf-81ed-4a69-9531-e89f27c5b19d",
   "metadata": {},
   "outputs": [
    {
     "name": "stdout",
     "output_type": "stream",
     "text": [
      "Broadcasted Sum: [[11 22 33]\n",
      " [14 25 36]\n",
      " [17 28 39]]\n"
     ]
    }
   ],
   "source": [
    "#18. Write a Python program to demonstrate broadcasting. Create an array of shape (3, 3) and add a one-\n",
    "#dimensionalarrayof shape (1, 3) to it using broadcasting.\n",
    "arrA = np.array([[1, 2, 3], [4, 5, 6], [7, 8, 9]])\n",
    "arrB = np.array([10, 20, 30])\n",
    "print(\"Broadcasted Sum:\", arrA + arrB)\n"
   ]
  },
  {
   "cell_type": "code",
   "execution_count": 16,
   "id": "aaaede33-6896-44e0-98eb-e5204b5567b4",
   "metadata": {},
   "outputs": [
    {
     "name": "stdout",
     "output_type": "stream",
     "text": [
      "Addition: [[ 6  8]\n",
      " [10 12]]\n",
      "Subtraction: [[-4 -4]\n",
      " [-4 -4]]\n",
      "Multiplication: [[ 5 12]\n",
      " [21 32]]\n",
      "Division: [[0.2        0.33333333]\n",
      " [0.42857143 0.5       ]]\n"
     ]
    }
   ],
   "source": [
    "#19. Create two NumPy arrays of the same shape, A and B. Perform the following arithmetic operations:Element-wise addition.Element-wise subtraction.Element-wise multiplication.Element-wise division.\n",
    "import numpy\n",
    "A = numpy.array([[1, 2], [3, 4]])\n",
    "B = numpy.array([[5, 6], [7, 8]])\n",
    "print(\"Addition:\", A + B)\n",
    "print(\"Subtraction:\", A - B)\n",
    "print(\"Multiplication:\", A * B)\n",
    "print(\"Division:\", A / B)\n"
   ]
  },
  {
   "cell_type": "code",
   "execution_count": 17,
   "id": "06d80c41-e0f9-41bc-bf53-3b2cc38e271a",
   "metadata": {},
   "outputs": [
    {
     "ename": "ModuleNotFoundError",
     "evalue": "No module named 'pandas'",
     "output_type": "error",
     "traceback": [
      "\u001b[0;31m---------------------------------------------------------------------------\u001b[0m",
      "\u001b[0;31mModuleNotFoundError\u001b[0m                       Traceback (most recent call last)",
      "Cell \u001b[0;32mIn[17], line 2\u001b[0m\n\u001b[1;32m      1\u001b[0m \u001b[38;5;66;03m#20. Create a Pandas DataFrame with the given Name and marks of 3 courses:Add a new column named 'Total' that represents the sum of all the courses. Add 'Grade' based on the values of the 'Total'. Print the updated DataFrame with the new 'Total' and 'Grade'column.\u001b[39;00m\n\u001b[0;32m----> 2\u001b[0m \u001b[38;5;28;01mimport\u001b[39;00m\u001b[38;5;250m \u001b[39m\u001b[38;5;21;01mpandas\u001b[39;00m\u001b[38;5;250m \u001b[39m\u001b[38;5;28;01mas\u001b[39;00m\u001b[38;5;250m \u001b[39m\u001b[38;5;21;01mpd\u001b[39;00m\n\u001b[1;32m      3\u001b[0m data \u001b[38;5;241m=\u001b[39m {\u001b[38;5;124m\"\u001b[39m\u001b[38;5;124mName\u001b[39m\u001b[38;5;124m\"\u001b[39m: [\u001b[38;5;124m\"\u001b[39m\u001b[38;5;124mAlice\u001b[39m\u001b[38;5;124m\"\u001b[39m, \u001b[38;5;124m\"\u001b[39m\u001b[38;5;124mBob\u001b[39m\u001b[38;5;124m\"\u001b[39m, \u001b[38;5;124m\"\u001b[39m\u001b[38;5;124mCharlie\u001b[39m\u001b[38;5;124m\"\u001b[39m], \u001b[38;5;124m\"\u001b[39m\u001b[38;5;124mMath\u001b[39m\u001b[38;5;124m\"\u001b[39m: [\u001b[38;5;241m85\u001b[39m, \u001b[38;5;241m90\u001b[39m, \u001b[38;5;241m78\u001b[39m], \u001b[38;5;124m\"\u001b[39m\u001b[38;5;124mScience\u001b[39m\u001b[38;5;124m\"\u001b[39m: [\u001b[38;5;241m88\u001b[39m, \u001b[38;5;241m76\u001b[39m, \u001b[38;5;241m94\u001b[39m], \u001b[38;5;124m\"\u001b[39m\u001b[38;5;124mEnglish\u001b[39m\u001b[38;5;124m\"\u001b[39m: [\u001b[38;5;241m92\u001b[39m, \u001b[38;5;241m80\u001b[39m, \u001b[38;5;241m85\u001b[39m]}\n\u001b[1;32m      4\u001b[0m df \u001b[38;5;241m=\u001b[39m pd\u001b[38;5;241m.\u001b[39mDataFrame(data)\n",
      "\u001b[0;31mModuleNotFoundError\u001b[0m: No module named 'pandas'"
     ]
    }
   ],
   "source": [
    "#20. Create a Pandas DataFrame with the given Name and marks of 3 courses:Add a new column named 'Total' that represents the sum of all the courses. Add 'Grade' based on the values of the 'Total'. Print the updated DataFrame with the new 'Total' and 'Grade'column.\n",
    "import pandas as pd\n",
    "data = {\"Name\": [\"Alice\", \"Bob\", \"Charlie\"], \"Math\": [85, 90, 78], \"Science\": [88, 76, 94], \"English\": [92, 80, 85]}\n",
    "df = pd.DataFrame(data)\n",
    "df[\"Total\"] = df.iloc[:, 1:].sum(axis=1)\n",
    "df[\"Grade\"] = df[\"Total\"].apply(lambda x: \"A\" if x > 250 else \"B\")\n",
    "print(df)\n",
    "\n",
    "\n"
   ]
  },
  {
   "cell_type": "code",
   "execution_count": null,
   "id": "7d8fbe78-767d-4de3-989b-61f73d0344f5",
   "metadata": {},
   "outputs": [],
   "source": [
    "#2\n",
    "import pandas as pd\n",
    "# Assuming you have loaded the dataset into a DataFrame called 'df'\n",
    "# (replace 'robot_dataset(robot_dataset)_1.csv' with the actual file name)\n",
    "df = pd.read_csv('robot_dataset(robot_dataset)_1.csv')\n",
    "# 1) Average number of conversations\n",
    "avg_conversations = df['Interaction_Count'].mean()\n",
    "print(f\"Average daily conversations: {avg_conversations}\")\n",
    "# 2) Total steps walked (assuming you want the sum for the entire dataset)\n",
    "total_steps = df['Steps_Walked'].sum()\n",
    "print(f\"Total steps walked: {total_steps}\")\n",
    "# 3) Maximum and minimum energy consumption\n",
    "max_energy = df['Energy_Consumption (kWh)'].max()\n",
    "min_energy = df['Energy_Consumption (kWh)'].min()\n",
    "print(f\"Maximum energy consumption: {max_energy}\")\n",
    "print(f\"Minimum energy consumption: {min_energy}\")\n",
    "# 4) Correlation between steps walked and energy consumption\n",
    "correlation = df['Steps_Walked'].corr(df['Energy_Consumption (kWh)'])\n",
    "print(f\"Correlation between steps and energy: {correlation}\")\n",
    "# 5) Distribution of objects recognized (using a histogram)\n",
    "import matplotlib.pyplot as plt  # Import matplotlib for plotting\n",
    "plt.hist(df['Objects_Recognized'])\n",
    "plt.xlabel('Objects Recognized')\n",
    "plt.ylabel('Frequency')\n",
    "plt.title('Distribution of Objects Recognized')\n",
    "plt.show()\n",
    "# 6) Variance in learning sessions\n",
    "variance_learning = df['Learning_Sessions'].var()\n",
    "print(f\"Variance in learning sessions: {variance_learning}\"\n"
   ]
  }
 ],
 "metadata": {
  "kernelspec": {
   "display_name": "Python 3 (ipykernel)",
   "language": "python",
   "name": "python3"
  },
  "language_info": {
   "codemirror_mode": {
    "name": "ipython",
    "version": 3
   },
   "file_extension": ".py",
   "mimetype": "text/x-python",
   "name": "python",
   "nbconvert_exporter": "python",
   "pygments_lexer": "ipython3",
   "version": "3.13.2"
  }
 },
 "nbformat": 4,
 "nbformat_minor": 5
}
