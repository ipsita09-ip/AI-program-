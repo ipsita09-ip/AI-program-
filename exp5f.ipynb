{
 "cells": [
  {
   "cell_type": "code",
   "execution_count": 1,
   "id": "d50317e1-b24c-47bb-8da1-3b09424487e2",
   "metadata": {},
   "outputs": [
    {
     "name": "stdout",
     "output_type": "stream",
     "text": [
      "Best x: 10.070417279043273, Best value: 141.69497329022641\n"
     ]
    }
   ],
   "source": [
    "import random\n",
    "\n",
    "def objective_function(x):\n",
    "    return (x ** 2) + 4 * x  # function x^2 + 4x\n",
    "\n",
    "def hill_climb(start, step_size, iterations):\n",
    "    current_x = start\n",
    "    current_value = objective_function(current_x)\n",
    "    \n",
    "    for _ in range(iterations):\n",
    "        next_x = current_x + random.choice([-step_size, step_size])\n",
    "        next_value = objective_function(next_x)\n",
    "\n",
    "        if next_value > current_value:\n",
    "            current_x = next_x\n",
    "            current_value = next_value\n",
    "    \n",
    "    return current_x, current_value\n",
    "\n",
    "best_x, best_value = hill_climb(start=random.uniform(-10,10), step_size=0.1, iterations=100)\n",
    "\n",
    "print(f\"Best x: {best_x}, Best value: {best_value}\")\n"
   ]
  },
  {
   "cell_type": "code",
   "execution_count": null,
   "id": "1240e471-f784-479c-aef1-83903f995aef",
   "metadata": {},
   "outputs": [],
   "source": []
  }
 ],
 "metadata": {
  "kernelspec": {
   "display_name": "Python 3 (ipykernel)",
   "language": "python",
   "name": "python3"
  },
  "language_info": {
   "codemirror_mode": {
    "name": "ipython",
    "version": 3
   },
   "file_extension": ".py",
   "mimetype": "text/x-python",
   "name": "python",
   "nbconvert_exporter": "python",
   "pygments_lexer": "ipython3",
   "version": "3.13.2"
  }
 },
 "nbformat": 4,
 "nbformat_minor": 5
}
