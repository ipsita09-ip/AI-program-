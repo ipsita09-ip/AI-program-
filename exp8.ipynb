{
 "cells": [
  {
   "cell_type": "code",
   "execution_count": 1,
   "id": "e9061b89-5862-4fa3-a6a8-482855fab5a4",
   "metadata": {},
   "outputs": [
    {
     "name": "stdout",
     "output_type": "stream",
     "text": [
      "Diagnosed diseases for Alice: ['flu']\n"
     ]
    }
   ],
   "source": [
    "# Define symptoms for a person\n",
    "symptoms = {\n",
    "    \"alice\": {\"headache\", \"runny_nose\", \"sneezing\"}\n",
    "}\n",
    "\n",
    "# Disease rules as symptom sets\n",
    "diseases = {\n",
    "    \"covid\": {\"fever\", \"cough\"},\n",
    "    \"flu\": {\"headache\", \"sneezing\"}\n",
    "}\n",
    "\n",
    "# Diagnosis function\n",
    "def diagnose(person):\n",
    "    person_symptoms = symptoms.get(person, set())\n",
    "    possible_diseases = []\n",
    "\n",
    "    for disease, required_symptoms in diseases.items():\n",
    "        if required_symptoms.issubset(person_symptoms):\n",
    "            possible_diseases.append(disease)\n",
    "    \n",
    "    return possible_diseases\n",
    "\n",
    "# Example query\n",
    "print(\"Diagnosed diseases for Alice:\", diagnose(\"alice\"))\n"
   ]
  },
  {
   "cell_type": "code",
   "execution_count": null,
   "id": "a6ea6e42-613f-49a3-ac22-026aaa2b485e",
   "metadata": {},
   "outputs": [],
   "source": []
  }
 ],
 "metadata": {
  "kernelspec": {
   "display_name": "Python 3 (ipykernel)",
   "language": "python",
   "name": "python3"
  },
  "language_info": {
   "codemirror_mode": {
    "name": "ipython",
    "version": 3
   },
   "file_extension": ".py",
   "mimetype": "text/x-python",
   "name": "python",
   "nbconvert_exporter": "python",
   "pygments_lexer": "ipython3",
   "version": "3.13.2"
  }
 },
 "nbformat": 4,
 "nbformat_minor": 5
}
