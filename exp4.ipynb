{
 "cells": [
  {
   "cell_type": "code",
   "execution_count": 1,
   "id": "33752aad-bc8b-4f83-b50e-10f5b0b3a0d1",
   "metadata": {},
   "outputs": [
    {
     "name": "stdout",
     "output_type": "stream",
     "text": [
      "Shortest path: ['A', 'C', 'D']\n",
      "Total cost: 5\n"
     ]
    }
   ],
   "source": [
    "import heapq\n",
    "\n",
    "class Graph:\n",
    "    def __init__(self):\n",
    "        self.graph = {}\n",
    "    \n",
    "    def add_edge(self, node1, node2, cost):\n",
    "        if node1 not in self.graph:\n",
    "            self.graph[node1] = []\n",
    "        if node2 not in self.graph:\n",
    "            self.graph[node2] = []\n",
    "        self.graph[node1].append((node2, cost))\n",
    "        self.graph[node2].append((node1, cost))\n",
    "    \n",
    "    def a_star(self, start, goal, heuristic):\n",
    "        open_list = []\n",
    "        heapq.heappush(open_list, (0 + heuristic[start], 0, start, []))\n",
    "        closed_set = set()\n",
    "        \n",
    "        while open_list:\n",
    "            _, cost, current, path = heapq.heappop(open_list)\n",
    "            \n",
    "            if current in closed_set:\n",
    "                continue\n",
    "            \n",
    "            path = path + [current]\n",
    "            closed_set.add(current)\n",
    "            \n",
    "            if current == goal:\n",
    "                return path, cost\n",
    "            \n",
    "            for neighbor, edge_cost in self.graph.get(current, []):\n",
    "                if neighbor not in closed_set:\n",
    "                    heapq.heappush(open_list, (cost + edge_cost + heuristic[neighbor], cost + edge_cost, neighbor, path))\n",
    "        \n",
    "        return None, float(\"inf\")\n",
    "\n",
    "# Example graph\n",
    "graph = Graph()\n",
    "graph.add_edge(\"A\", \"B\", 1)\n",
    "graph.add_edge(\"A\", \"C\", 4)\n",
    "graph.add_edge(\"B\", \"C\", 2)\n",
    "graph.add_edge(\"B\", \"D\", 5)\n",
    "graph.add_edge(\"C\", \"D\", 1)\n",
    "\n",
    "test_heuristic = {\"A\": 7, \"B\": 6, \"C\": 2, \"D\": 0}\n",
    "\n",
    "path, cost = graph.a_star(\"A\", \"D\", test_heuristic)\n",
    "print(\"Shortest path:\", path)\n",
    "print(\"Total cost:\", cost)\n"
   ]
  },
  {
   "cell_type": "code",
   "execution_count": null,
   "id": "57fb6a38-6244-456c-8752-5cdb91588aa0",
   "metadata": {},
   "outputs": [],
   "source": []
  }
 ],
 "metadata": {
  "kernelspec": {
   "display_name": "Python 3 (ipykernel)",
   "language": "python",
   "name": "python3"
  },
  "language_info": {
   "codemirror_mode": {
    "name": "ipython",
    "version": 3
   },
   "file_extension": ".py",
   "mimetype": "text/x-python",
   "name": "python",
   "nbconvert_exporter": "python",
   "pygments_lexer": "ipython3",
   "version": "3.13.2"
  }
 },
 "nbformat": 4,
 "nbformat_minor": 5
}
