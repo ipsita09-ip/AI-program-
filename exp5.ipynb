{
 "cells": [
  {
   "cell_type": "code",
   "execution_count": 1,
   "id": "44d2ef11-2c8c-48f6-b523-9e5f722a9234",
   "metadata": {},
   "outputs": [
    {
     "name": "stdout",
     "output_type": "stream",
     "text": [
      "Best state found: 92\n"
     ]
    }
   ],
   "source": [
    "import random\n",
    "\n",
    "def hill_climb(problem, iterations=1000):\n",
    "    current = problem.initial_state()\n",
    "    for _ in range(iterations):\n",
    "        neighbors = problem.get_neighbors(current)\n",
    "        if not neighbors:\n",
    "            break\n",
    "        next_state = max(neighbors, key=problem.evaluate)\n",
    "        if problem.evaluate(next_state) <= problem.evaluate(current):\n",
    "            break\n",
    "        current = next_state\n",
    "    return current\n",
    "\n",
    "class SimpleProblem:\n",
    "    def __init__(self):\n",
    "        self.values = [random.randint(0, 100) for _ in range(10)]\n",
    "    \n",
    "    def initial_state(self):\n",
    "        return random.choice(self.values)\n",
    "    \n",
    "    def get_neighbors(self, state):\n",
    "        index = self.values.index(state)\n",
    "        neighbors = []\n",
    "        if index > 0:\n",
    "            neighbors.append(self.values[index - 1])\n",
    "        if index < len(self.values) - 1:\n",
    "            neighbors.append(self.values[index + 1])\n",
    "        return neighbors\n",
    "    \n",
    "    def evaluate(self, state):\n",
    "        return state\n",
    "\n",
    "# Example execution\n",
    "problem = SimpleProblem()\n",
    "best_state = hill_climb(problem)\n",
    "print(\"Best state found:\", best_state)\n"
   ]
  },
  {
   "cell_type": "code",
   "execution_count": null,
   "id": "086e54b3-99b9-4e6e-ab38-1a5c1d09d677",
   "metadata": {},
   "outputs": [],
   "source": []
  }
 ],
 "metadata": {
  "kernelspec": {
   "display_name": "Python 3 (ipykernel)",
   "language": "python",
   "name": "python3"
  },
  "language_info": {
   "codemirror_mode": {
    "name": "ipython",
    "version": 3
   },
   "file_extension": ".py",
   "mimetype": "text/x-python",
   "name": "python",
   "nbconvert_exporter": "python",
   "pygments_lexer": "ipython3",
   "version": "3.13.2"
  }
 },
 "nbformat": 4,
 "nbformat_minor": 5
}
