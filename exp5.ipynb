import random

def objective_function(x):
    return (x ** 2) + 4 * x  # function x^2 + 4x

def hill_climb(start, step_size, iterations):
    current_x = start
    current_value = objective_function(current_x)
    
    for _ in range(iterations):
        next_x = current_x + random.choice([-step_size, step_size])
        next_value = objective_function(next_x)

        if next_value > current_value:
            current_x = next_x
            current_value = next_value
    
    return current_x, current_value

best_x, best_value = hill_climb(start=random.uniform(-10,10), step_size=0.1, iterations=100)

print(f"Best x: {best_x}, Best value: {best_value}")
